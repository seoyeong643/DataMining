{
  "cells": [
    {
      "cell_type": "markdown",
      "metadata": {
        "id": "iyrwk1vL66PH"
      },
      "source": [
        "# CSE 572: Lab 5\n",
        "\n",
        "In this lab, you will practice implementing different variations of the Support Vector Machine (SVM) classifier.\n",
        "\n",
        "To execute and make changes to this notebook, click File > Save a copy to save your own version in your Google Drive or Github. Read the step-by-step instructions below carefully. To execute the code, click on each cell below and press the SHIFT-ENTER keys simultaneously or by clicking the Play button.\n",
        "\n",
        "When you finish executing all code/exercises, save your notebook then download a copy (.ipynb file). Submit the following **three** things:\n",
        "1. a link to your Colab notebook,\n",
        "2. the .ipynb file, and\n",
        "3. a pdf of the executed notebook on Canvas.\n",
        "\n",
        "To generate a pdf of the notebook, please use the instructions on Lab 0.\n"
      ]
    },
    {
      "cell_type": "markdown",
      "source": [
        "Make sure you signed up a group (even if you decide to work on your own) on Canvas under \"People->Group for Lab 5\".\n",
        "\n",
        "# **PUT YOUR GROUP INFO HERE**\n",
        "\n",
        "| Group number | August Group XXX |            |\n",
        "|--------------|------------------|------------|\n",
        "| Member 1     | NAME             | ASURITE ID |\n",
        "| Member 2     |                  |            |\n",
        "| Member 3     |                  |            |\n",
        "| Member 4     |                  |            |"
      ],
      "metadata": {
        "id": "h3v5NwrHLMGs"
      }
    },
    {
      "cell_type": "markdown",
      "metadata": {
        "id": "bWhAKb3i66PI"
      },
      "source": [
        "### Load the iris dataset\n",
        "\n",
        "Load the dataset. For visualization purposes for the first exercise, we will convert the dataframe to have only two features (petal length and petal width) and two classes (Iris-virginica and Iris-other)."
      ]
    },
    {
      "cell_type": "code",
      "execution_count": null,
      "metadata": {
        "id": "L1pu_H_a66PJ"
      },
      "outputs": [],
      "source": [
        "import pandas as pd\n",
        "\n",
        "data = pd.read_csv('http://archive.ics.uci.edu/ml/machine-learning-databases/iris/iris.data',header=None)\n",
        "data.columns = ['sepal length', 'sepal width', 'petal length', 'petal width', 'class']\n",
        "\n",
        "data.head()"
      ]
    },
    {
      "cell_type": "code",
      "execution_count": null,
      "metadata": {
        "id": "HNVCe5m366PJ"
      },
      "outputs": [],
      "source": [
        "# Drop the sepal features\n",
        "data = data.drop(['sepal length', 'sepal width'], axis=1)\n",
        "\n",
        "data.head()"
      ]
    },
    {
      "cell_type": "code",
      "execution_count": null,
      "metadata": {
        "id": "iZERfa1y66PK"
      },
      "outputs": [],
      "source": [
        "# Replace the Iris-setosa and Iris-versicolor classes with Iris-other\n",
        "data['class'] = data['class'].replace('Iris-versicolor', 'Iris-other')\n",
        "data['class'] = data['class'].replace('Iris-setosa', 'Iris-other')"
      ]
    },
    {
      "cell_type": "markdown",
      "metadata": {
        "id": "TftrAezX66PK"
      },
      "source": [
        "Next, we will split our dataset into three subsets: training (60%), validation (20%), and test (20%)."
      ]
    },
    {
      "cell_type": "code",
      "execution_count": null,
      "metadata": {
        "id": "F5WVfjfk66PK"
      },
      "outputs": [],
      "source": [
        "import numpy as np\n",
        "\n",
        "# The first parameter is the shuffled data frame\n",
        "# The second parameter is the split indices which are at 60% of the data and 80% of the data\n",
        "train, val, test = np.split(data.sample(frac=1, random_state=42), [int(.6*len(data)), int(.8*len(data))])"
      ]
    },
    {
      "cell_type": "markdown",
      "metadata": {
        "id": "P8IEc_jP66PK"
      },
      "source": [
        "Print the number of samples in each of the three subsets and the number of instances from each class. For example, for the training set you might print \"The training set has __ instances (__ virginica, __ other)\"."
      ]
    },
    {
      "cell_type": "code",
      "execution_count": null,
      "metadata": {
        "id": "w7JN9waa66PL"
      },
      "outputs": [],
      "source": [
        "# YOUR CODE HERE"
      ]
    },
    {
      "cell_type": "markdown",
      "metadata": {
        "id": "DIoT08kL66PL"
      },
      "source": [
        "## Support vector machines\n",
        "Support vector machines (SVMs) are a supervised learning method that finds the hyperplane (or set of hyperplanes) in the $n$-dimensional feature space (where $n$ is the number of input features) which maximizes the distance to the nearest training samples from each class. Maximizing this margin ensures that the decision boundary will be as generalizable as possible to new, unseen data points."
      ]
    },
    {
      "cell_type": "code",
      "execution_count": null,
      "metadata": {
        "id": "W34zS-3466PL"
      },
      "outputs": [],
      "source": [
        "# import the Support vector classifier\n",
        "from sklearn.svm import SVC"
      ]
    },
    {
      "cell_type": "markdown",
      "metadata": {
        "id": "vCpQa8v166PL"
      },
      "source": [
        "The main hyperparameter to choose is the regularization parameter $C$, which represents the strength of the penalty incurred during training for allowing samples to be closer to the margin boundary (since a perfect decision boundary is not attainable for most problems).\n",
        "\n",
        "SVM also uses a kernel function $K$ to map samples to a higher dimensional space (this is referred to as the \"kernel trick\"). The SVM implementation in scikit-learn gives four options for the kernel function: linear (this is the standard SVM without non-linear kernel), polynomial, radial basis function (RBF), and sigmoid.\n",
        "\n",
        "The below example uses a linear kernel with $C=0.1$."
      ]
    },
    {
      "cell_type": "code",
      "execution_count": null,
      "metadata": {
        "id": "8FovikqL66PL"
      },
      "outputs": [],
      "source": [
        "C = 0.1\n",
        "linear_svc = SVC(kernel='linear', C=C)"
      ]
    },
    {
      "cell_type": "code",
      "execution_count": null,
      "metadata": {
        "id": "10xUcfKP66PL"
      },
      "outputs": [],
      "source": [
        "# train the SVM classifier\n",
        "linear_svc.fit(train[['petal length','petal width']], train['class'])"
      ]
    },
    {
      "cell_type": "markdown",
      "metadata": {
        "id": "H9SGgERc66PL"
      },
      "source": [
        "The following function for plotting the decision boundary is from the [Python Data Science Handbook by Jake VanderPlas](https://jakevdp.github.io/PythonDataScienceHandbook/05.07-support-vector-machines.html).  The function plots the decision boundary as a gray solid line and the margins as gray dashed lines. The support vectors are circled."
      ]
    },
    {
      "cell_type": "code",
      "execution_count": null,
      "metadata": {
        "id": "BZqwiejh66PL"
      },
      "outputs": [],
      "source": [
        "import matplotlib.pyplot as plt\n",
        "\n",
        "def plot_svc_decision_function(model, ax=None, plot_support=True):\n",
        "    \"\"\"Plot the decision function for a 2D SVC\"\"\"\n",
        "    if ax is None:\n",
        "        ax = plt.gca()\n",
        "    xlim = ax.get_xlim()\n",
        "    ylim = ax.get_ylim()\n",
        "\n",
        "    # create grid to evaluate model\n",
        "    x = np.linspace(xlim[0], xlim[1], 30)\n",
        "    y = np.linspace(ylim[0], ylim[1], 30)\n",
        "    Y, X = np.meshgrid(y, x)\n",
        "    xy = np.vstack([X.ravel(), Y.ravel()]).T\n",
        "    P = model.decision_function(xy).reshape(X.shape)\n",
        "\n",
        "    # plot decision boundary and margins\n",
        "    ax.contour(X, Y, P, colors='k',\n",
        "               levels=[-1, 0, 1], alpha=0.5,\n",
        "               linestyles=['--', '-', '--'])\n",
        "\n",
        "    # plot support vectors\n",
        "    if plot_support:\n",
        "        ax.scatter(model.support_vectors_[:, 0],\n",
        "                   model.support_vectors_[:, 1],\n",
        "                   s=300, linewidth=1, facecolors='none', edgecolors='gray');\n",
        "    ax.set_xlim(xlim)\n",
        "    ax.set_ylim(ylim)"
      ]
    },
    {
      "cell_type": "markdown",
      "metadata": {
        "id": "hprIdNED66PL"
      },
      "source": [
        "Plot the dataset and the learned decision boundary."
      ]
    },
    {
      "cell_type": "code",
      "execution_count": null,
      "metadata": {
        "id": "ECryhFbq66PL"
      },
      "outputs": [],
      "source": [
        "fig, ax = plt.subplots(1, figsize=(7,5))\n",
        "# Plot the setosa instances\n",
        "ax.scatter(train[train['class'] == 'Iris-virginica']['petal length'],\n",
        "               train[train['class'] == 'Iris-virginica']['petal width'],\n",
        "               label='Iris-virginica',\n",
        "               color='blue',\n",
        "               alpha=0.5)\n",
        "# Plot the other instances\n",
        "ax.scatter(train[train['class'] == 'Iris-other']['petal length'],\n",
        "               train[train['class'] == 'Iris-other']['petal width'],\n",
        "               label='Iris-other',\n",
        "               color='red',\n",
        "               alpha=0.5)\n",
        "\n",
        "plot_svc_decision_function(linear_svc, ax=ax)\n",
        "ax.set_xlabel('Petal length')\n",
        "ax.set_ylabel('Petal width')\n",
        "ax.legend()\n",
        "ax.set_title('SVM with Linear Kernel (C=%0.2f)' % C);"
      ]
    },
    {
      "cell_type": "markdown",
      "metadata": {
        "id": "5QZCGuSw66PM"
      },
      "source": [
        "Train a new model with $C=100$ and plot the resulting decision boundary."
      ]
    },
    {
      "cell_type": "code",
      "execution_count": null,
      "metadata": {
        "id": "szbeJIWh66PM"
      },
      "outputs": [],
      "source": [
        "# YOUR CODE HERE"
      ]
    },
    {
      "cell_type": "markdown",
      "metadata": {
        "id": "jAk-ICj766PM"
      },
      "source": [
        "**Question 1:**\n",
        "\n",
        "How did a higher value of $C$ affect the decision boundary? Why?\n",
        "\n",
        "**Answer:**\n",
        "\n",
        "YOUR ANSWER HERE"
      ]
    },
    {
      "cell_type": "markdown",
      "metadata": {
        "id": "i_lnxSrc66PM"
      },
      "source": [
        "Compute and print the accuracy of each classifier (with $C=0.1$ and $C=100$) on the validation set."
      ]
    },
    {
      "cell_type": "code",
      "execution_count": null,
      "metadata": {
        "id": "MV76OKKD66PM"
      },
      "outputs": [],
      "source": [
        "from sklearn.metrics import accuracy_score\n",
        "# YOUR CODE HERE"
      ]
    },
    {
      "cell_type": "markdown",
      "metadata": {
        "id": "Lyl7vNmN66PM"
      },
      "source": [
        "**Question 2:**\n",
        "\n",
        "Which value of $C$ resulted in higher validation accuracy?\n",
        "\n",
        "**Answer:**\n",
        "\n",
        "YOUR ANSWER HERE"
      ]
    },
    {
      "cell_type": "markdown",
      "metadata": {
        "id": "sxa8XPYR66PM"
      },
      "source": [
        "In addition to linear SVM, we can also implement SVM with polynomial, radial basis function (RBF), and sigmoid kernels. Train an SVM classifier with each kernel separately. Set $C$ to be the value of $C$ with highest validation accuracy from Question 2.\n",
        "\n",
        "You may need to consult the [sklearn documentation](https://scikit-learn.org/stable/modules/generated/sklearn.svm.SVC.html). The polynomial kernel requires the `degree` parameter to be passed; use `degree=3`."
      ]
    },
    {
      "cell_type": "code",
      "execution_count": null,
      "metadata": {
        "id": "vTYQ3ZFu66PM"
      },
      "outputs": [],
      "source": [
        "# RBF\n",
        "# YOUR CODE HERE"
      ]
    },
    {
      "cell_type": "code",
      "execution_count": null,
      "metadata": {
        "id": "qL-0Vij466PM"
      },
      "outputs": [],
      "source": [
        "# Polynomial (degree=3)\n",
        "# YOUR CODE HERE"
      ]
    },
    {
      "cell_type": "code",
      "execution_count": null,
      "metadata": {
        "id": "tHS05Lu566PM"
      },
      "outputs": [],
      "source": [
        "# Sigmoid\n",
        "# YOUR CODE HERE"
      ]
    },
    {
      "cell_type": "markdown",
      "metadata": {
        "id": "PffUcffe66PN"
      },
      "source": [
        "Compute and print the validation accuracy for each of the 3 classifiers."
      ]
    },
    {
      "cell_type": "code",
      "execution_count": null,
      "metadata": {
        "id": "0MVKyWtC66PN"
      },
      "outputs": [],
      "source": [
        "# YOUR CODE HERE"
      ]
    },
    {
      "cell_type": "markdown",
      "metadata": {
        "id": "LMgY2iD266PN"
      },
      "source": [
        "**Question 3:**\n",
        "\n",
        "Which of the four kernels (the three above + linear) gave the highest validation accuracy? (If multiple tied for the highest accuracy, list all of them.)\n",
        "\n",
        "**Answer:**\n",
        "\n",
        "YOUR ANSWER HERE"
      ]
    },
    {
      "cell_type": "markdown",
      "metadata": {
        "id": "hypzN6M-66PN"
      },
      "source": [
        "### SVM with non-linear decision boundary\n",
        "\n",
        "For the Iris-virginica vs. Iris-other version of the Iris dataset, the two classes were mostly linearly separable with a small number of classification errors. However, if we instead wanted to classify Iris-versicolor vs. Iris-other, the two classes would not be linearly separable. Below, we load the dataset again and convert it to Iris-versicolor vs. Iris-other and plot the dataset as a scatter plot."
      ]
    },
    {
      "cell_type": "code",
      "execution_count": null,
      "metadata": {
        "id": "GDegsAGv66PN"
      },
      "outputs": [],
      "source": [
        "# Load the dataset\n",
        "data = pd.read_csv('http://archive.ics.uci.edu/ml/machine-learning-databases/iris/iris.data',header=None)\n",
        "data.columns = ['sepal length', 'sepal width', 'petal length', 'petal width', 'class']\n",
        "\n",
        "# Drop the sepal features\n",
        "data = data.drop(['sepal length', 'sepal width'], axis=1)\n",
        "\n",
        "# Replace the Iris-virginica and Iris-setosa classes with Iris-other\n",
        "data['class'] = data['class'].replace('Iris-virginica', 'Iris-other')\n",
        "data['class'] = data['class'].replace('Iris-setosa', 'Iris-other')\n",
        "\n",
        "# Split the data into train/val/test\n",
        "train, val, test = np.split(data.sample(frac=1, random_state=42), [int(.6*len(data)), int(.8*len(data))])\n",
        "\n",
        "# Plot the dataset\n",
        "fig, ax = plt.subplots(1, figsize=(7,5))\n",
        "# Plot the versicolor instances\n",
        "ax.scatter(train[train['class'] == 'Iris-versicolor']['petal length'],\n",
        "               train[train['class'] == 'Iris-versicolor']['petal width'],\n",
        "               label='Iris-versicolor',\n",
        "               color='blue',\n",
        "               alpha=0.5)\n",
        "\n",
        "# Plot the other instances\n",
        "ax.scatter(train[train['class'] == 'Iris-other']['petal length'],\n",
        "               train[train['class'] == 'Iris-other']['petal width'],\n",
        "               label='Iris-other',\n",
        "               color='red',\n",
        "               alpha=0.5)\n",
        "\n",
        "ax.set_xlabel('Petal length')\n",
        "ax.set_ylabel('Petal width')\n",
        "ax.legend()"
      ]
    },
    {
      "cell_type": "markdown",
      "metadata": {
        "id": "dkaMzfs266PN"
      },
      "source": [
        "If we train a linear SVM to classify these instances, the accuracy will be low. Train a linear SVM and plot the decision boundary to show this (use $C=100$)."
      ]
    },
    {
      "cell_type": "code",
      "execution_count": null,
      "metadata": {
        "id": "_1rxTsNH66PN"
      },
      "outputs": [],
      "source": [
        "# YOUR CODE HERE"
      ]
    },
    {
      "cell_type": "markdown",
      "metadata": {
        "id": "4VPS56yn66PN"
      },
      "source": [
        "The radial basis function kernel will allow us to learn an elliptical decision boundary that will better fit the data. Train an SVM with RBF kernel and plot the decision boundary (use $C=100$)."
      ]
    },
    {
      "cell_type": "code",
      "execution_count": null,
      "metadata": {
        "id": "zmaGYpbj66PN"
      },
      "outputs": [],
      "source": [
        "# YOUR CODE HERE"
      ]
    },
    {
      "cell_type": "markdown",
      "metadata": {
        "id": "OKwL81MC66PN"
      },
      "source": [
        "Compute and print the validation accuracy of your linear and RBF SVM classifiers."
      ]
    },
    {
      "cell_type": "code",
      "execution_count": null,
      "metadata": {
        "id": "g7O0ZhWU66PN"
      },
      "outputs": [],
      "source": [
        "# YOUR CODE HERE"
      ]
    },
    {
      "cell_type": "markdown",
      "metadata": {
        "id": "MwBqAzoo66PR"
      },
      "source": [
        "Finally, use the best model (the one with the highest validation accuracy in the last cell) to compute the final accuracy on our test set."
      ]
    },
    {
      "cell_type": "code",
      "execution_count": null,
      "metadata": {
        "id": "9BfLV7HT66PR"
      },
      "outputs": [],
      "source": [
        "# YOUR CODE HERE"
      ]
    }
  ],
  "metadata": {
    "kernelspec": {
      "display_name": "Python 3 (ipykernel)",
      "language": "python",
      "name": "python3"
    },
    "language_info": {
      "codemirror_mode": {
        "name": "ipython",
        "version": 3
      },
      "file_extension": ".py",
      "mimetype": "text/x-python",
      "name": "python",
      "nbconvert_exporter": "python",
      "pygments_lexer": "ipython3",
      "version": "3.9.13"
    },
    "colab": {
      "provenance": []
    }
  },
  "nbformat": 4,
  "nbformat_minor": 0
}